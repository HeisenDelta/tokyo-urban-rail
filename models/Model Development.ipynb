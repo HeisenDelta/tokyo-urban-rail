{
  "nbformat": 4,
  "nbformat_minor": 0,
  "metadata": {
    "colab": {
      "provenance": []
    },
    "kernelspec": {
      "name": "python3",
      "display_name": "Python 3"
    },
    "language_info": {
      "name": "python"
    }
  },
  "cells": [
    {
      "cell_type": "code",
      "execution_count": null,
      "metadata": {
        "id": "PQQhVAUf8V8X"
      },
      "outputs": [],
      "source": []
    },
    {
      "cell_type": "markdown",
      "source": [
        "## Task 1 - Define a node ordering (can be arbitrary)"
      ],
      "metadata": {
        "id": "bfE2lFKmAyrK"
      }
    },
    {
      "cell_type": "markdown",
      "source": [
        "## Task 2 - Form the adjacency matrix using this node ordering\n",
        "\n",
        "### 2.1 - Unweighted Adjacency Matrix\n",
        "### 2.2 - Weighted Adjancy Matrix using distance"
      ],
      "metadata": {
        "id": "fdeghX7XBAgq"
      }
    },
    {
      "cell_type": "code",
      "source": [
        "from math import radians, cos, sin, asin, sqrt\n",
        "\n",
        "def haversine(lon1, lat1, lon2, lat2):\n",
        "    \"\"\"\n",
        "    Calculate the great circle distance in kilometers between two points\n",
        "    on the earth (specified in decimal degrees)\n",
        "    \"\"\"\n",
        "    # convert decimal degrees to radians\n",
        "    lon1, lat1, lon2, lat2 = map(radians, [lon1, lat1, lon2, lat2])\n",
        "\n",
        "    # haversine formula\n",
        "    dlon = lon2 - lon1\n",
        "    dlat = lat2 - lat1\n",
        "    a = sin(dlat/2)**2 + cos(lat1) * cos(lat2) * sin(dlon/2)**2\n",
        "    c = 2 * asin(sqrt(a))\n",
        "    r = 6371 # Radius of earth in kilometers. Use 3956 for miles. Determines return value units.\n",
        "    return c * r\n"
      ],
      "metadata": {
        "id": "PGztrQTlBlSv"
      },
      "execution_count": null,
      "outputs": []
    },
    {
      "cell_type": "code",
      "source": [],
      "metadata": {
        "id": "Bs8HjcXqBz8U"
      },
      "execution_count": null,
      "outputs": []
    },
    {
      "cell_type": "markdown",
      "source": [
        "## Task 3 - Form the node signal (a matrix (numStations x 2) for each timestep of passengers in and passenger out)"
      ],
      "metadata": {
        "id": "ndHU24AOB0nS"
      }
    },
    {
      "cell_type": "code",
      "source": [],
      "metadata": {
        "id": "QM1w9LOKCFdT"
      },
      "execution_count": null,
      "outputs": []
    },
    {
      "cell_type": "code",
      "source": [
        "nodeSignal = np.zeros(numStations,2,numTimesteps)"
      ],
      "metadata": {
        "id": "DVc-SNHsCAVA"
      },
      "execution_count": null,
      "outputs": []
    },
    {
      "cell_type": "code",
      "source": [],
      "metadata": {
        "id": "2Nuyy_IKCNI1"
      },
      "execution_count": null,
      "outputs": []
    },
    {
      "cell_type": "markdown",
      "source": [
        "## Task 4 - Form a training and test set. For the first 60% of the timesteps, put in training. For the remaining 40%, put in test."
      ],
      "metadata": {
        "id": "X3BdL73KCNdO"
      }
    },
    {
      "cell_type": "code",
      "source": [
        "thresholdTimestep = int(numTimesteps * 2/3)"
      ],
      "metadata": {
        "id": "douXaFWbCoPx"
      },
      "execution_count": null,
      "outputs": []
    },
    {
      "cell_type": "code",
      "source": [
        "trainNodeSignals = nodeSignal[:,:,:thresholdTimestep]\n",
        "trainNodeSignals = nodeSignal[:,:,thresholdTimestep:]"
      ],
      "metadata": {
        "id": "bz5lNm_iCeZz"
      },
      "execution_count": null,
      "outputs": []
    }
  ]
}