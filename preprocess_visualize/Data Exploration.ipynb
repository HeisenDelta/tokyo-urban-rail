{
  "nbformat": 4,
  "nbformat_minor": 0,
  "metadata": {
    "colab": {
      "provenance": []
    },
    "kernelspec": {
      "name": "python3",
      "display_name": "Python 3"
    },
    "language_info": {
      "name": "python"
    }
  },
  "cells": [
    {
      "cell_type": "code",
      "source": [
        "from google.colab import drive\n",
        "import os\n",
        "\n",
        "drive.mount('/content/drive')"
      ],
      "metadata": {
        "colab": {
          "base_uri": "https://localhost:8080/"
        },
        "id": "Bd1Fo1jYEGC8",
        "outputId": "b38d8948-0223-4143-d6a1-894321df2e50"
      },
      "execution_count": null,
      "outputs": [
        {
          "output_type": "stream",
          "name": "stdout",
          "text": [
            "Mounted at /content/drive\n"
          ]
        }
      ]
    },
    {
      "cell_type": "code",
      "source": [
        "shared_folder = '/content/drive/MyDrive/Ariya Narayanasamy/Data'\n",
        "\n",
        "os.chdir(shared_folder)"
      ],
      "metadata": {
        "id": "h0CecKrXEex_"
      },
      "execution_count": null,
      "outputs": []
    },
    {
      "cell_type": "markdown",
      "source": [
        "### Node attributes\n",
        "- `station_name` str: Name of station\n",
        "- `serviced_lines` list[dict{str: str}]: List of the trains that service station as a dict {line_name: code}\n",
        "- `train_data_up` list[dict{str: list[int, len = 39]}]: List of train crowdedness (0~4) data for each train at every time\n",
        "- `train_data_down`\n",
        "- `fare_gate_data_in`\n",
        "- `fare_gate_data_out`"
      ],
      "metadata": {
        "id": "iHh86-NXNsKq"
      }
    },
    {
      "cell_type": "markdown",
      "source": [
        "Note: the train crowdedness value (0~4) is not an edge attribute, but a node attribute. You could use this value of the current and previous stations to estimate the number of people leaving the train at a given station.\n",
        "\n",
        "Comparing this to the fare gate influx data gives an estimate of how many people are changing trains at that particular stop. Comparing this data for multiple trains could yield an estimate for the number of people transferring from one particular train to another"
      ],
      "metadata": {
        "id": "_IGxa3Y_PB0h"
      }
    },
    {
      "cell_type": "code",
      "execution_count": null,
      "metadata": {
        "id": "4MFgiFsG-Xy8"
      },
      "outputs": [],
      "source": [
        "import networkx as nx\n",
        "import pandas as pd\n",
        "import matplotlib.pyplot as plt\n",
        "import math\n",
        "import pickle"
      ]
    },
    {
      "cell_type": "code",
      "source": [
        "# from geopy.geocoders import Nominatim\n",
        "import requests\n",
        "from bs4 import BeautifulSoup\n",
        "import re"
      ],
      "metadata": {
        "id": "VjlanD1ngwpV"
      },
      "execution_count": null,
      "outputs": []
    },
    {
      "cell_type": "markdown",
      "source": [
        "## Nodes stuff"
      ],
      "metadata": {
        "id": "WP8K1yaylFr3"
      }
    },
    {
      "cell_type": "code",
      "source": [
        "nodes_df = pd.DataFrame(columns = [\n",
        "  'station_name', 'serviced_lines', 'train_data_up', 'train_data_down',\n",
        "  'fare_gate_data_in', 'fare_gate_data_out',\n",
        "  'latitude', 'longitude'\n",
        "])"
      ],
      "metadata": {
        "id": "to3DAlLqUIwz"
      },
      "execution_count": null,
      "outputs": []
    },
    {
      "cell_type": "markdown",
      "source": [
        "Really annoying thing, but instead of `Exited/Holiday` like every other key in the pandas DataFrame, the key is `Exited/Weekend` because I didn't realize I made this mistake."
      ],
      "metadata": {
        "id": "v54ikMUvaD3g"
      }
    },
    {
      "cell_type": "code",
      "source": [
        "def scrape_coords(station_name):\n",
        "  pos_urls = [\n",
        "    f'https://en.wikipedia.org/wiki/{station_name}_Station',\n",
        "    f'https://en.wikipedia.org/wiki/{station_name}_Station_(Tokyo)',\n",
        "    f'https://en.wikipedia.org/wiki/{station_name}_Station_(Tokyo_Metro)', # Only for Waseda station\n",
        "    f'https://en.wikipedia.org/wiki/{station_name}_Station_(Chiba)',\n",
        "    f'https://en.wikipedia.org/wiki/{station_name}_Station_(Saitama)',\n",
        "    f'https://en.wikipedia.org/wiki/{station_name}_Station_(Kanagawa)'\n",
        "  ]\n",
        "  for url in pos_urls:\n",
        "    response = requests.get(url)\n",
        "    soup = BeautifulSoup(response.content, 'html.parser')\n",
        "\n",
        "    element = soup.find('span', class_ ='geo-dms')\n",
        "    if element:\n",
        "      return element.get_text()\n",
        "  return None"
      ],
      "metadata": {
        "id": "DFdiiW93PjzP"
      },
      "execution_count": null,
      "outputs": []
    },
    {
      "cell_type": "code",
      "source": [
        "def dms_to_decimal(dms):\n",
        "    # 35° 42′ 22″ N, 139° 39′ 56″ E\n",
        "    split_coords = re.split(r\"[°,′,″]\", dms)\n",
        "\n",
        "    degrees = float(split_coords[0])\n",
        "    minutes = float(split_coords[1])\n",
        "    seconds = float(split_coords[2])\n",
        "    direction = split_coords[3]\n",
        "\n",
        "    decimal_degrees = degrees + minutes / 60 + seconds / 3600\n",
        "\n",
        "    if direction in ['S', 'W']:\n",
        "        decimal_degrees = -decimal_degrees\n",
        "\n",
        "    return decimal_degrees"
      ],
      "metadata": {
        "id": "qIHD-rvYSdRT"
      },
      "execution_count": null,
      "outputs": []
    },
    {
      "cell_type": "code",
      "source": [
        "def fill_df(nodes_df, filepath):\n",
        "  for csvfile in sorted(os.listdir(filepath)):\n",
        "\n",
        "    if csvfile.lower().endswith('csv'):\n",
        "      df = pd.read_csv(os.path.join(filepath, csvfile))\n",
        "      div_name = csvfile.split('.')[0].split('_')\n",
        "      station_name, station_code = div_name[1], div_name[0]\n",
        "      # print(station_code, station_name)\n",
        "\n",
        "      # Station already exists in the df\n",
        "      if any(nodes_df['station_name'] == station_name):\n",
        "        row_index = nodes_df[nodes_df['station_name'] == station_name].index[0]\n",
        "\n",
        "        row = nodes_df.at[row_index, 'serviced_lines']\n",
        "        row[train] = station_code\n",
        "\n",
        "        row = nodes_df.at[row_index, 'train_data_up']\n",
        "        row[train] = {}\n",
        "        row[train]['W'] = df['Up/Weekday'] if df['Up/Weekday'][0] != '-' else None\n",
        "        row[train]['H'] = df['Up/Holiday'] if df['Up/Holiday'][0] != '-' else None\n",
        "\n",
        "        row = nodes_df.at[row_index, 'train_data_down']\n",
        "        row[train] = {}\n",
        "        row[train]['W'] = df['Down/Weekday'] if df['Down/Weekday'][0] != '-' else None\n",
        "        row[train]['H'] = df['Down/Holiday'] if df['Down/Holiday'][0] != '-' else None\n",
        "\n",
        "      # Station is a new entry in the df\n",
        "      else:\n",
        "        coords = scrape_coords(station_name) # Web scraping (find coordinates)\n",
        "        print(station_name, coords)\n",
        "        if coords:\n",
        "          latitude = dms_to_decimal(coords.split()[0])\n",
        "          longitude = dms_to_decimal(coords.split()[1])\n",
        "\n",
        "        new_row = {\n",
        "            'station_name': station_name,\n",
        "            'serviced_lines': {train: station_code},\n",
        "            'train_data_up': {train: {\n",
        "                'W': df['Up/Weekday'] if df['Up/Weekday'][0] != '-' else None,\n",
        "                'H': df['Up/Holiday'] if df['Up/Holiday'][0] != '-' else None\n",
        "            }},\n",
        "            'train_data_down': {train: {\n",
        "                'W': df['Down/Weekday'] if df['Down/Weekday'][0] != '-' else None,\n",
        "                'H': df['Down/Holiday'] if df['Down/Holiday'][0] != '-' else None\n",
        "            }},\n",
        "            'fare_gate_data_in': {\n",
        "                'W': df['Entered/Weekday'] if not df['Entered/Weekday'].isnull().all() else None,\n",
        "                'H': df['Entered/Holiday'] if not df['Entered/Holiday'].isnull().all() else None\n",
        "            },\n",
        "            'fare_gate_data_out': {\n",
        "                'W': df['Exited/Weekday'] if not df['Exited/Weekday'].isnull().all() else None,\n",
        "                'H': df['Exited/Weekend'] if not df['Exited/Weekend'].isnull().all() else None\n",
        "            },\n",
        "            'latitude': latitude if coords else None,\n",
        "            'longitude': longitude if coords else None\n",
        "        }\n",
        "\n",
        "        new_row_df = pd.DataFrame([new_row])\n",
        "        nodes_df = pd.concat([nodes_df, new_row_df], ignore_index = True)\n",
        "\n",
        "  return nodes_df"
      ],
      "metadata": {
        "id": "tYT5PCiXLUJn"
      },
      "execution_count": null,
      "outputs": []
    },
    {
      "cell_type": "code",
      "source": [
        "for train in ['Chiyoda', 'Fukutoshin', 'Ginza', 'Hanzomon', 'Hibiya', 'Marunouchi', 'Namboku', 'Tozai', 'Yurakucho']:\n",
        "  parent_folder = 'Tokyo Metro/' + train + '/'\n",
        "  filepath = os.path.join(shared_folder, parent_folder)\n",
        "\n",
        "  nodes_df = fill_df(nodes_df, filepath)"
      ],
      "metadata": {
        "colab": {
          "base_uri": "https://localhost:8080/"
        },
        "id": "BZliAkEsRbg4",
        "outputId": "e16713df-72a2-4051-caf4-604b3732025a"
      },
      "execution_count": null,
      "outputs": [
        {
          "output_type": "stream",
          "name": "stdout",
          "text": [
            "Yoyogi-uehara 35°40′8.63″N 139°40′46.84″E\n",
            "Yoyogi-koen 35°40′8.1984″N 139°41′28.7808″E\n",
            "Meiji-jingumae 35°40′6.4164″N 139°42′19.2636″E\n",
            "Omote-sando 35°39′54.5328″N 139°42′45.0756″E\n",
            "Nogizaka 35°40′00″N 139°43′34″E\n",
            "Akasaka 35°40′21″N 139°44′12″E\n",
            "Kokkai-gijidomae 35°40′27″N 139°44′43″E\n",
            "Kasumigaseki 35°40′26″N 139°45′04″E\n",
            "Hibiya 35°40′30″N 139°45′35″E\n",
            "Nijubashimae 35°40′49″N 139°45′42″E\n",
            "Otemachi 35°41′05″N 139°45′57″E\n",
            "Shin-ochanomizu 35°41′52″N 139°45′57″E\n",
            "Yushima 35°42′29″N 139°46′12″E\n",
            "Nezu 35°43′03″N 139°45′57″E\n",
            "Sendagi 35°43′31″N 139°45′47″E\n",
            "Nishi-nippori 35°43′55″N 139°46′00″E\n",
            "Machiya 35°44′33″N 139°46′54″E\n",
            "Kita-senju 35°44′58″N 139°48′18″E\n",
            "Ayase 35°45′43.93″N 139°49′29.63″E\n",
            "Kita-ayase 35°46′37″N 139°49′56″E\n",
            "Wakoshi 35°47′18″N 139°36′46″E\n",
            "Chikatetsu-narimasu 35°46′36″N 139°37′53″E\n",
            "Chikatetsu-akatsuka 35°46′12″N 139°38′39″E\n",
            "Heiwadai 35°45′28″N 139°39′14″E\n",
            "Hikawadai 35°44′59″N 139°39′54″E\n",
            "Kotake-mukaihara 35°44′38″N 139°40′43″E\n",
            "Senkawa 35°44′18″N 139°41′21″E\n",
            "Kanamecho 35°43′59.5164″N 139°41′56.3784″E\n",
            "Ikebukuro 35°43′49″N 139°42′41″E\n",
            "Zoshigaya 35°43′14″N 139°42′55″E\n",
            "Nishi-waseda 35°42′26″N 139°42′33″E\n",
            "Higashi-shinjuku 35°41′52.52″N 139°42′27.47″E\n",
            "Shinjuku-sanchome 35°41′26.21″N 139°42′22.56″E\n",
            "Kita-sando 35°40′43″N 139°42′19″E\n",
            "Shibuya 35°39′31″N 139°42′05″E\n",
            "Gaiemmae 35°40′14″N 139°43′05″E\n",
            "Aoyama-itchome 35°40′23″N 139°43′27″E\n",
            "Akasaka-mitsuke 35°40′37″N 139°44′14″E\n",
            "Tameike-sanno 35°40′22″N 139°44′29″E\n",
            "Toranomon 35°40′13″N 139°45′00″E\n",
            "Shimbashi 35°39′59″N 139°45′31″E\n",
            "Ginza 35°40′16″N 139°45′54″E\n",
            "Kyobashi 35°40′36″N 139°46′12″E\n",
            "Nihombashi 35°40′55.92″N 139°46′28.48″E\n",
            "Mitsukoshimae 35°41′04″N 139°46′29″E\n",
            "Kanda 35°41′30″N 139°46′17″E\n",
            "Suehirocho 35°42′11″N 139°46′18″E\n",
            "Ueno-hirokoji 35°42′29″N 139°46′23″E\n",
            "Ueno 35°42′48″N 139°46′36″E\n",
            "Inaricho 35°42′41″N 139°46′58″E\n",
            "Tawaramachi 35°42′36″N 139°47′27″E\n",
            "Asakusa 35°42′43″N 139°47′54″E\n",
            "Nagatacho 35°40′43.4892″N 139°44′24.936″E\n",
            "Hanzomon 35°41′8.4912″N 139°44′29.9652″E\n",
            "Kudanshita 35°41′43″N 139°45′05″E\n",
            "Jimbocho 35°41′45″N 139°45′28″E\n",
            "Suitengumae 35°40′57″N 139°47′07″E\n",
            "Kiyosumi-shirakawa 35°40′56″N 139°47′55″E\n",
            "Sumiyoshi 35°41′21″N 139°48′58″E\n",
            "Kinshicho 35°41′46″N 139°48′50″E\n",
            "Oshiage 35°42′40″N 139°48′48″E\n",
            "Naka-meguro 35°38′40″N 139°41′57″E\n",
            "Ebisu 35°38′48″N 139°42′36″E\n",
            "Hiro-o 35°39′08″N 139°43′20″E\n",
            "Roppongi 35°39′46″N 139°43′53″E\n",
            "Kamiyacho 35°39′47″N 139°44′42″E\n",
            "Toranomon Hills 35°40′02″N 139°44′52″E\n",
            "Higashi-ginza 35°40′11″N 139°46′02″E\n",
            "Tsukiji 35°40′05″N 139°46′21″E\n",
            "Hatchobori 35°40′28.6″N 139°46′36.8″E\n",
            "Kayabacho 35°40′48″N 139°46′49″E\n",
            "Ningyocho 35°41′10.7052″N 139°46′56.1972″E\n",
            "Kodemmacho 35°41′26″N 139°46′43″E\n",
            "Akihabara 35°41′54″N 139°46′23″E\n",
            "Naka-okachimachi 35°42′23″N 139°46′34″E\n",
            "Iriya 35°43′15″N 139°47′04″E\n",
            "Minowa 35°43′47″N 139°47′29″E\n",
            "Minami-senju 35°44′00″N 139°47′57″E\n",
            "Ogikubo 35°42′17″N 139°37′12″E\n",
            "Minami-Asagaya 35°41′58″N 139°38′08″E\n",
            "Shin-koenji 35°41′52″N 139°38′54″E\n",
            "Higashi-koenji 35°41′52″N 139°39′27″E\n",
            "Shin-nakano 35°41′51″N 139°40′09″E\n",
            "Nakano-sakaue 35°41′49″N 139°40′58″E\n",
            "Nishi-shinjuku 35°41′40″N 139°41′33″E\n",
            "Shinjuku 35°41′22″N 139°42′01″E\n",
            "Shinjuku-gyoemmae 35°41′19″N 139°42′39″E\n",
            "Yotsuya-sanchome 35°41′17″N 139°43′13″E\n",
            "Yotsuya 35°41′10″N 139°43′50″E\n",
            "Tokyo 35°40′51″N 139°46′01″E\n",
            "Awajicho 35°41′42″N 139°46′03″E\n",
            "Ochanomizu 35°41′59″N 139°45′50″E\n",
            "Hongo-sanchome 35°42′24″N 139°45′36″E\n",
            "Korakuen 35°42′26″N 139°45′05″E\n",
            "Myogadani 35°43′02″N 139°44′13″E\n",
            "Shin-otsuka 35°43′33″N 139°43′48″E\n",
            "Honancho 35°41′00″N 139°39′25″E\n",
            "Nakano-fujimicho 35°41′26″N 139°40′01″E\n",
            "Nakano-shimbashi 35°41′32″N 139°40′26″E\n",
            "Meguro 35°38′02″N 139°42′58″E\n",
            "Shirokanedai 35°38′16.81″N 139°43′34.76″E\n",
            "Shirokane-takanawa 35°38′35.46″N 139°44′2.86″E\n",
            "Azabu-juban 35°39′17″N 139°44′13″E\n",
            "Roppongi-itchome 35°39′54″N 139°44′20″E\n",
            "Ichigaya 35°41′28″N 139°44′08″E\n",
            "Iidabashi 35°42′07″N 139°44′42″E\n",
            "Todaimae 35°43′03″N 139°45′29″E\n",
            "Hon-komagome 35°43′28″N 139°45′14″E\n",
            "Komagome 35°44′11″N 139°44′49″E\n",
            "Nishigahara 35°44′45″N 139°44′32″E\n",
            "Oji 35°45′09″N 139°44′17″E\n",
            "Oji-kamiya 35°45′54″N 139°44′09″E\n",
            "Shimo 35°46′41″N 139°43′57″E\n",
            "Akabane-iwabuchi 35°47′0″N 139°43′20″E\n",
            "Nakano 35°42′22″N 139°39′56″E\n",
            "Ochiai 35°42′39″N 139°41′11″E\n",
            "Takadanobaba 35°42′46″N 139°42′14″E\n",
            "Waseda 35°42′21″N 139°43′20″E\n",
            "Kagurazaka 35°42′14.04″N 139°44′3.25″E\n",
            "Takebashi 35°41′27″N 139°45′25″E\n",
            "Monzen-nakacho 35°40′19″N 139°47′45″E\n",
            "Kiba 35°40′10″N 139°48′23″E\n",
            "Toyocho 35°40′11″N 139°49′03″E\n",
            "Minami-sunamachi 35°40′08″N 139°49′50″E\n",
            "Nishi-kasai 35°39′52″N 139°51′34″E\n",
            "Kasai 35°39′49″N 139°52′21″E\n",
            "Urayasu 35°39′57″N 139°53′34″E\n",
            "Minami-gyotoku 35°40′22″N 139°54′08″E\n",
            "Gyotoku 35°40′57″N 139°54′51″E\n",
            "Myoden 35°41′30″N 139°55′30″E\n",
            "Baraki-nakayama 35°42′12″N 139°56′31″E\n",
            "Nishi-funabashi 35°42′25″N 139°57′32″E\n",
            "Higashi-ikebukuro 35°43′30.82″N 139°43′12.7″E\n",
            "Gokokuji 35°43′8.37″N 139°43′39.26″E\n",
            "Edogawabashi 35°42′34.13″N 139°44′0.74″E\n",
            "Kojimachi 35°41′2.16″N 139°44′15.66″E\n",
            "Sakuradamon 35°40′38.47″N 139°45′6.39″E\n",
            "Yurakucho 35°40′30″N 139°45′49″E\n",
            "Ginza-itchome 35°40′27.6456″N 139°46′1.3692″E\n",
            "Shintomicho 35°40′13.6488″N 139°46′25.4028″E\n",
            "Tsukishima 35°39′51.6708″N 139°47′5.5032″E\n",
            "Toyosu 35°39′18″N 139°47′46″E\n",
            "Tatsumi 35°38′44.04″N 139°48′37.89″E\n",
            "Shin-kiba 35°38′45″N 139°49′37″E\n"
          ]
        }
      ]
    },
    {
      "cell_type": "code",
      "source": [
        "nodes_df"
      ],
      "metadata": {
        "colab": {
          "base_uri": "https://localhost:8080/",
          "height": 597
        },
        "id": "Oj_aCFA4az4h",
        "outputId": "724e14ea-7905-4683-8a97-b62b9521831d"
      },
      "execution_count": null,
      "outputs": [
        {
          "output_type": "execute_result",
          "data": {
            "text/plain": [
              "       station_name                                     serviced_lines  \\\n",
              "0     Yoyogi-uehara                                 {'Chiyoda': 'C01'}   \n",
              "1       Yoyogi-koen                                 {'Chiyoda': 'C02'}   \n",
              "2    Meiji-jingumae            {'Chiyoda': 'C03', 'Fukutoshin': 'F15'}   \n",
              "3       Omote-sando  {'Chiyoda': 'C04', 'Ginza': 'G02', 'Hanzomon':...   \n",
              "4          Nogizaka                                 {'Chiyoda': 'C05'}   \n",
              "..              ...                                                ...   \n",
              "139     Shintomicho                               {'Yurakucho': 'Y20'}   \n",
              "140      Tsukishima                               {'Yurakucho': 'Y21'}   \n",
              "141          Toyosu                               {'Yurakucho': 'Y22'}   \n",
              "142         Tatsumi                               {'Yurakucho': 'Y23'}   \n",
              "143       Shin-kiba                               {'Yurakucho': 'Y24'}   \n",
              "\n",
              "                                         train_data_up  \\\n",
              "0                  {'Chiyoda': {'W': None, 'H': None}}   \n",
              "1    {'Chiyoda': {'W': ['0', '0', '0', '0', '0', '0...   \n",
              "2    {'Chiyoda': {'W': ['0', '0', '0', '0', '0', '0...   \n",
              "3    {'Chiyoda': {'W': ['0', '0', '0', '0', '0', '0...   \n",
              "4    {'Chiyoda': {'W': ['0', '0', '0', '0', '0', '0...   \n",
              "..                                                 ...   \n",
              "139  {'Yurakucho': {'W': ['0', '0', '0', '1', '1', ...   \n",
              "140  {'Yurakucho': {'W': ['0', '0', '1', '1', '1', ...   \n",
              "141  {'Yurakucho': {'W': ['0', '0', '0', '0', '0', ...   \n",
              "142  {'Yurakucho': {'W': ['0', '0', '0', '0', '0', ...   \n",
              "143  {'Yurakucho': {'W': ['0', '0', '0', '0', '0', ...   \n",
              "\n",
              "                                       train_data_down  \\\n",
              "0    {'Chiyoda': {'W': ['0', '0', '0', '0', '1', '2...   \n",
              "1    {'Chiyoda': {'W': ['0', '0', '1', '1', '1', '2...   \n",
              "2    {'Chiyoda': {'W': ['0', '0', '0', '1', '1', '2...   \n",
              "3    {'Chiyoda': {'W': ['0', '0', '0', '0', '1', '2...   \n",
              "4    {'Chiyoda': {'W': ['0', '0', '0', '0', '1', '2...   \n",
              "..                                                 ...   \n",
              "139  {'Yurakucho': {'W': ['0', '0', '0', '0', '0', ...   \n",
              "140  {'Yurakucho': {'W': ['0', '0', '0', '0', '0', ...   \n",
              "141  {'Yurakucho': {'W': ['0', '0', '0', '0', '0', ...   \n",
              "142  {'Yurakucho': {'W': ['0', '0', '0', '0', '0', ...   \n",
              "143              {'Yurakucho': {'W': None, 'H': None}}   \n",
              "\n",
              "                                     fare_gate_data_in  \\\n",
              "0                               {'W': None, 'H': None}   \n",
              "1    {'W': [156, 220, 356, 732, 1440, 2328, 3504, 3...   \n",
              "2    {'W': [64, 90, 134, 200, 332, 566, 804, 1006, ...   \n",
              "3    {'W': [49, 49, 94, 142, 244, 366, 589, 535, 55...   \n",
              "4    {'W': [228, 164, 236, 308, 520, 676, 920, 860,...   \n",
              "..                                                 ...   \n",
              "139  {'W': [102, 178, 276, 592, 880, 1322, 2140, 15...   \n",
              "140  {'W': [133, 292, 440, 854, 1475, 2387, 3537, 3...   \n",
              "141  {'W': [93, 123, 228, 414, 808, 1265, 1644, 117...   \n",
              "142  {'W': [360, 428, 628, 1276, 2212, 3344, 4240, ...   \n",
              "143  {'W': [93, 165, 379, 983, 1586, 2558, 3581, 20...   \n",
              "\n",
              "                                    fare_gate_data_out   latitude   longitude  \n",
              "0                               {'W': None, 'H': None}  35.669064  139.679678  \n",
              "1    {'W': [12, 148, 316, 416, 832, 1176, 2400, 253...  35.668944  139.691328  \n",
              "2    {'W': [52, 230, 428, 800, 1412, 2556, 3732, 52...  35.668449  139.705351  \n",
              "3    {'W': [35, 296, 391, 772, 1233, 2232, 3684, 62...  35.665148  139.712521  \n",
              "4    {'W': [88, 416, 488, 1016, 1592, 2796, 4340, 6...  35.666667  139.726111  \n",
              "..                                                 ...        ...         ...  \n",
              "139  {'W': [84, 238, 452, 862, 1534, 2772, 4362, 44...  35.670458  139.773723  \n",
              "140  {'W': [48, 118, 182, 494, 760, 1049, 1660, 118...  35.664353  139.784862  \n",
              "141  {'W': [97, 292, 458, 1002, 1864, 3043, 5381, 6...  35.655000  139.796111  \n",
              "142  {'W': [48, 232, 712, 1128, 1980, 2696, 4060, 3...  35.645567  139.810525  \n",
              "143  {'W': [25, 319, 638, 1282, 1723, 2220, 2468, 1...  35.645833  139.826944  \n",
              "\n",
              "[144 rows x 8 columns]"
            ],
            "text/html": [
              "\n",
              "  <div id=\"df-2641d32a-231b-44ad-bc08-7cc00e4d5ec4\" class=\"colab-df-container\">\n",
              "    <div>\n",
              "<style scoped>\n",
              "    .dataframe tbody tr th:only-of-type {\n",
              "        vertical-align: middle;\n",
              "    }\n",
              "\n",
              "    .dataframe tbody tr th {\n",
              "        vertical-align: top;\n",
              "    }\n",
              "\n",
              "    .dataframe thead th {\n",
              "        text-align: right;\n",
              "    }\n",
              "</style>\n",
              "<table border=\"1\" class=\"dataframe\">\n",
              "  <thead>\n",
              "    <tr style=\"text-align: right;\">\n",
              "      <th></th>\n",
              "      <th>station_name</th>\n",
              "      <th>serviced_lines</th>\n",
              "      <th>train_data_up</th>\n",
              "      <th>train_data_down</th>\n",
              "      <th>fare_gate_data_in</th>\n",
              "      <th>fare_gate_data_out</th>\n",
              "      <th>latitude</th>\n",
              "      <th>longitude</th>\n",
              "    </tr>\n",
              "  </thead>\n",
              "  <tbody>\n",
              "    <tr>\n",
              "      <th>0</th>\n",
              "      <td>Yoyogi-uehara</td>\n",
              "      <td>{'Chiyoda': 'C01'}</td>\n",
              "      <td>{'Chiyoda': {'W': None, 'H': None}}</td>\n",
              "      <td>{'Chiyoda': {'W': ['0', '0', '0', '0', '1', '2...</td>\n",
              "      <td>{'W': None, 'H': None}</td>\n",
              "      <td>{'W': None, 'H': None}</td>\n",
              "      <td>35.669064</td>\n",
              "      <td>139.679678</td>\n",
              "    </tr>\n",
              "    <tr>\n",
              "      <th>1</th>\n",
              "      <td>Yoyogi-koen</td>\n",
              "      <td>{'Chiyoda': 'C02'}</td>\n",
              "      <td>{'Chiyoda': {'W': ['0', '0', '0', '0', '0', '0...</td>\n",
              "      <td>{'Chiyoda': {'W': ['0', '0', '1', '1', '1', '2...</td>\n",
              "      <td>{'W': [156, 220, 356, 732, 1440, 2328, 3504, 3...</td>\n",
              "      <td>{'W': [12, 148, 316, 416, 832, 1176, 2400, 253...</td>\n",
              "      <td>35.668944</td>\n",
              "      <td>139.691328</td>\n",
              "    </tr>\n",
              "    <tr>\n",
              "      <th>2</th>\n",
              "      <td>Meiji-jingumae</td>\n",
              "      <td>{'Chiyoda': 'C03', 'Fukutoshin': 'F15'}</td>\n",
              "      <td>{'Chiyoda': {'W': ['0', '0', '0', '0', '0', '0...</td>\n",
              "      <td>{'Chiyoda': {'W': ['0', '0', '0', '1', '1', '2...</td>\n",
              "      <td>{'W': [64, 90, 134, 200, 332, 566, 804, 1006, ...</td>\n",
              "      <td>{'W': [52, 230, 428, 800, 1412, 2556, 3732, 52...</td>\n",
              "      <td>35.668449</td>\n",
              "      <td>139.705351</td>\n",
              "    </tr>\n",
              "    <tr>\n",
              "      <th>3</th>\n",
              "      <td>Omote-sando</td>\n",
              "      <td>{'Chiyoda': 'C04', 'Ginza': 'G02', 'Hanzomon':...</td>\n",
              "      <td>{'Chiyoda': {'W': ['0', '0', '0', '0', '0', '0...</td>\n",
              "      <td>{'Chiyoda': {'W': ['0', '0', '0', '0', '1', '2...</td>\n",
              "      <td>{'W': [49, 49, 94, 142, 244, 366, 589, 535, 55...</td>\n",
              "      <td>{'W': [35, 296, 391, 772, 1233, 2232, 3684, 62...</td>\n",
              "      <td>35.665148</td>\n",
              "      <td>139.712521</td>\n",
              "    </tr>\n",
              "    <tr>\n",
              "      <th>4</th>\n",
              "      <td>Nogizaka</td>\n",
              "      <td>{'Chiyoda': 'C05'}</td>\n",
              "      <td>{'Chiyoda': {'W': ['0', '0', '0', '0', '0', '0...</td>\n",
              "      <td>{'Chiyoda': {'W': ['0', '0', '0', '0', '1', '2...</td>\n",
              "      <td>{'W': [228, 164, 236, 308, 520, 676, 920, 860,...</td>\n",
              "      <td>{'W': [88, 416, 488, 1016, 1592, 2796, 4340, 6...</td>\n",
              "      <td>35.666667</td>\n",
              "      <td>139.726111</td>\n",
              "    </tr>\n",
              "    <tr>\n",
              "      <th>...</th>\n",
              "      <td>...</td>\n",
              "      <td>...</td>\n",
              "      <td>...</td>\n",
              "      <td>...</td>\n",
              "      <td>...</td>\n",
              "      <td>...</td>\n",
              "      <td>...</td>\n",
              "      <td>...</td>\n",
              "    </tr>\n",
              "    <tr>\n",
              "      <th>139</th>\n",
              "      <td>Shintomicho</td>\n",
              "      <td>{'Yurakucho': 'Y20'}</td>\n",
              "      <td>{'Yurakucho': {'W': ['0', '0', '0', '1', '1', ...</td>\n",
              "      <td>{'Yurakucho': {'W': ['0', '0', '0', '0', '0', ...</td>\n",
              "      <td>{'W': [102, 178, 276, 592, 880, 1322, 2140, 15...</td>\n",
              "      <td>{'W': [84, 238, 452, 862, 1534, 2772, 4362, 44...</td>\n",
              "      <td>35.670458</td>\n",
              "      <td>139.773723</td>\n",
              "    </tr>\n",
              "    <tr>\n",
              "      <th>140</th>\n",
              "      <td>Tsukishima</td>\n",
              "      <td>{'Yurakucho': 'Y21'}</td>\n",
              "      <td>{'Yurakucho': {'W': ['0', '0', '1', '1', '1', ...</td>\n",
              "      <td>{'Yurakucho': {'W': ['0', '0', '0', '0', '0', ...</td>\n",
              "      <td>{'W': [133, 292, 440, 854, 1475, 2387, 3537, 3...</td>\n",
              "      <td>{'W': [48, 118, 182, 494, 760, 1049, 1660, 118...</td>\n",
              "      <td>35.664353</td>\n",
              "      <td>139.784862</td>\n",
              "    </tr>\n",
              "    <tr>\n",
              "      <th>141</th>\n",
              "      <td>Toyosu</td>\n",
              "      <td>{'Yurakucho': 'Y22'}</td>\n",
              "      <td>{'Yurakucho': {'W': ['0', '0', '0', '0', '0', ...</td>\n",
              "      <td>{'Yurakucho': {'W': ['0', '0', '0', '0', '0', ...</td>\n",
              "      <td>{'W': [93, 123, 228, 414, 808, 1265, 1644, 117...</td>\n",
              "      <td>{'W': [97, 292, 458, 1002, 1864, 3043, 5381, 6...</td>\n",
              "      <td>35.655000</td>\n",
              "      <td>139.796111</td>\n",
              "    </tr>\n",
              "    <tr>\n",
              "      <th>142</th>\n",
              "      <td>Tatsumi</td>\n",
              "      <td>{'Yurakucho': 'Y23'}</td>\n",
              "      <td>{'Yurakucho': {'W': ['0', '0', '0', '0', '0', ...</td>\n",
              "      <td>{'Yurakucho': {'W': ['0', '0', '0', '0', '0', ...</td>\n",
              "      <td>{'W': [360, 428, 628, 1276, 2212, 3344, 4240, ...</td>\n",
              "      <td>{'W': [48, 232, 712, 1128, 1980, 2696, 4060, 3...</td>\n",
              "      <td>35.645567</td>\n",
              "      <td>139.810525</td>\n",
              "    </tr>\n",
              "    <tr>\n",
              "      <th>143</th>\n",
              "      <td>Shin-kiba</td>\n",
              "      <td>{'Yurakucho': 'Y24'}</td>\n",
              "      <td>{'Yurakucho': {'W': ['0', '0', '0', '0', '0', ...</td>\n",
              "      <td>{'Yurakucho': {'W': None, 'H': None}}</td>\n",
              "      <td>{'W': [93, 165, 379, 983, 1586, 2558, 3581, 20...</td>\n",
              "      <td>{'W': [25, 319, 638, 1282, 1723, 2220, 2468, 1...</td>\n",
              "      <td>35.645833</td>\n",
              "      <td>139.826944</td>\n",
              "    </tr>\n",
              "  </tbody>\n",
              "</table>\n",
              "<p>144 rows × 8 columns</p>\n",
              "</div>\n",
              "    <div class=\"colab-df-buttons\">\n",
              "\n",
              "  <div class=\"colab-df-container\">\n",
              "    <button class=\"colab-df-convert\" onclick=\"convertToInteractive('df-2641d32a-231b-44ad-bc08-7cc00e4d5ec4')\"\n",
              "            title=\"Convert this dataframe to an interactive table.\"\n",
              "            style=\"display:none;\">\n",
              "\n",
              "  <svg xmlns=\"http://www.w3.org/2000/svg\" height=\"24px\" viewBox=\"0 -960 960 960\">\n",
              "    <path d=\"M120-120v-720h720v720H120Zm60-500h600v-160H180v160Zm220 220h160v-160H400v160Zm0 220h160v-160H400v160ZM180-400h160v-160H180v160Zm440 0h160v-160H620v160ZM180-180h160v-160H180v160Zm440 0h160v-160H620v160Z\"/>\n",
              "  </svg>\n",
              "    </button>\n",
              "\n",
              "  <style>\n",
              "    .colab-df-container {\n",
              "      display:flex;\n",
              "      gap: 12px;\n",
              "    }\n",
              "\n",
              "    .colab-df-convert {\n",
              "      background-color: #E8F0FE;\n",
              "      border: none;\n",
              "      border-radius: 50%;\n",
              "      cursor: pointer;\n",
              "      display: none;\n",
              "      fill: #1967D2;\n",
              "      height: 32px;\n",
              "      padding: 0 0 0 0;\n",
              "      width: 32px;\n",
              "    }\n",
              "\n",
              "    .colab-df-convert:hover {\n",
              "      background-color: #E2EBFA;\n",
              "      box-shadow: 0px 1px 2px rgba(60, 64, 67, 0.3), 0px 1px 3px 1px rgba(60, 64, 67, 0.15);\n",
              "      fill: #174EA6;\n",
              "    }\n",
              "\n",
              "    .colab-df-buttons div {\n",
              "      margin-bottom: 4px;\n",
              "    }\n",
              "\n",
              "    [theme=dark] .colab-df-convert {\n",
              "      background-color: #3B4455;\n",
              "      fill: #D2E3FC;\n",
              "    }\n",
              "\n",
              "    [theme=dark] .colab-df-convert:hover {\n",
              "      background-color: #434B5C;\n",
              "      box-shadow: 0px 1px 3px 1px rgba(0, 0, 0, 0.15);\n",
              "      filter: drop-shadow(0px 1px 2px rgba(0, 0, 0, 0.3));\n",
              "      fill: #FFFFFF;\n",
              "    }\n",
              "  </style>\n",
              "\n",
              "    <script>\n",
              "      const buttonEl =\n",
              "        document.querySelector('#df-2641d32a-231b-44ad-bc08-7cc00e4d5ec4 button.colab-df-convert');\n",
              "      buttonEl.style.display =\n",
              "        google.colab.kernel.accessAllowed ? 'block' : 'none';\n",
              "\n",
              "      async function convertToInteractive(key) {\n",
              "        const element = document.querySelector('#df-2641d32a-231b-44ad-bc08-7cc00e4d5ec4');\n",
              "        const dataTable =\n",
              "          await google.colab.kernel.invokeFunction('convertToInteractive',\n",
              "                                                    [key], {});\n",
              "        if (!dataTable) return;\n",
              "\n",
              "        const docLinkHtml = 'Like what you see? Visit the ' +\n",
              "          '<a target=\"_blank\" href=https://colab.research.google.com/notebooks/data_table.ipynb>data table notebook</a>'\n",
              "          + ' to learn more about interactive tables.';\n",
              "        element.innerHTML = '';\n",
              "        dataTable['output_type'] = 'display_data';\n",
              "        await google.colab.output.renderOutput(dataTable, element);\n",
              "        const docLink = document.createElement('div');\n",
              "        docLink.innerHTML = docLinkHtml;\n",
              "        element.appendChild(docLink);\n",
              "      }\n",
              "    </script>\n",
              "  </div>\n",
              "\n",
              "\n",
              "<div id=\"df-0ba179cf-6674-4a8f-9fcf-fbd4e11b58cf\">\n",
              "  <button class=\"colab-df-quickchart\" onclick=\"quickchart('df-0ba179cf-6674-4a8f-9fcf-fbd4e11b58cf')\"\n",
              "            title=\"Suggest charts.\"\n",
              "            style=\"display:none;\">\n",
              "\n",
              "<svg xmlns=\"http://www.w3.org/2000/svg\" height=\"24px\"viewBox=\"0 0 24 24\"\n",
              "     width=\"24px\">\n",
              "    <g>\n",
              "        <path d=\"M19 3H5c-1.1 0-2 .9-2 2v14c0 1.1.9 2 2 2h14c1.1 0 2-.9 2-2V5c0-1.1-.9-2-2-2zM9 17H7v-7h2v7zm4 0h-2V7h2v10zm4 0h-2v-4h2v4z\"/>\n",
              "    </g>\n",
              "</svg>\n",
              "  </button>\n",
              "\n",
              "<style>\n",
              "  .colab-df-quickchart {\n",
              "    background-color: #E8F0FE;\n",
              "    border: none;\n",
              "    border-radius: 50%;\n",
              "    cursor: pointer;\n",
              "    display: none;\n",
              "    fill: #1967D2;\n",
              "    height: 32px;\n",
              "    padding: 0 0 0 0;\n",
              "    width: 32px;\n",
              "  }\n",
              "\n",
              "  .colab-df-quickchart:hover {\n",
              "    background-color: #E2EBFA;\n",
              "    box-shadow: 0px 1px 2px rgba(60, 64, 67, 0.3), 0px 1px 3px 1px rgba(60, 64, 67, 0.15);\n",
              "    fill: #174EA6;\n",
              "  }\n",
              "\n",
              "  [theme=dark] .colab-df-quickchart {\n",
              "    background-color: #3B4455;\n",
              "    fill: #D2E3FC;\n",
              "  }\n",
              "\n",
              "  [theme=dark] .colab-df-quickchart:hover {\n",
              "    background-color: #434B5C;\n",
              "    box-shadow: 0px 1px 3px 1px rgba(0, 0, 0, 0.15);\n",
              "    filter: drop-shadow(0px 1px 2px rgba(0, 0, 0, 0.3));\n",
              "    fill: #FFFFFF;\n",
              "  }\n",
              "</style>\n",
              "\n",
              "  <script>\n",
              "    async function quickchart(key) {\n",
              "      const charts = await google.colab.kernel.invokeFunction(\n",
              "          'suggestCharts', [key], {});\n",
              "    }\n",
              "    (() => {\n",
              "      let quickchartButtonEl =\n",
              "        document.querySelector('#df-0ba179cf-6674-4a8f-9fcf-fbd4e11b58cf button');\n",
              "      quickchartButtonEl.style.display =\n",
              "        google.colab.kernel.accessAllowed ? 'block' : 'none';\n",
              "    })();\n",
              "  </script>\n",
              "</div>\n",
              "    </div>\n",
              "  </div>\n"
            ]
          },
          "metadata": {},
          "execution_count": 10
        }
      ]
    },
    {
      "cell_type": "markdown",
      "source": [
        "### Nodes Checks"
      ],
      "metadata": {
        "id": "vIVweFD61XXa"
      }
    },
    {
      "cell_type": "markdown",
      "source": [
        "Check if all the nodes have latitude and longitude values"
      ],
      "metadata": {
        "id": "WHjfbSfE2IAC"
      }
    },
    {
      "cell_type": "code",
      "source": [
        "print(nodes_df.loc[nodes_df['latitude'].isnull(), 'station_name'])\n",
        "print(nodes_df.loc[nodes_df['longitude'].isnull(), 'station_name'])"
      ],
      "metadata": {
        "colab": {
          "base_uri": "https://localhost:8080/"
        },
        "id": "gzIL3bLPvvXT",
        "outputId": "891fb97c-1d75-4d29-867a-5d50ef2a1727"
      },
      "execution_count": null,
      "outputs": [
        {
          "output_type": "stream",
          "name": "stdout",
          "text": [
            "Series([], Name: station_name, dtype: object)\n",
            "Series([], Name: station_name, dtype: object)\n"
          ]
        }
      ]
    },
    {
      "cell_type": "code",
      "source": [
        "nodes_df.shape"
      ],
      "metadata": {
        "colab": {
          "base_uri": "https://localhost:8080/"
        },
        "id": "E4q_ZknqWvvo",
        "outputId": "e0f87c87-51ac-4316-e91f-87b82f3d35c1"
      },
      "execution_count": null,
      "outputs": [
        {
          "output_type": "execute_result",
          "data": {
            "text/plain": [
              "(144, 8)"
            ]
          },
          "metadata": {},
          "execution_count": 12
        }
      ]
    },
    {
      "cell_type": "code",
      "source": [
        "for _, row in nodes_df.iterrows():\n",
        "  station_name = row['station_name']\n",
        "  for line in row['serviced_lines'].keys():\n",
        "\n",
        "    if row['train_data_up'][line]['W'] is None:\n",
        "      print(f'{line.upper()} line at {station_name.upper()} has no TRAIN DATA UP')\n",
        "    if row['train_data_down'][line]['W'] is None:\n",
        "      print(f'{line.upper()} line at {station_name.upper()} has no TRAIN DATA DOWN')\n",
        "\n",
        "  if row['fare_gate_data_in']['W'] is None:\n",
        "    print(f'{line.upper()} line at {station_name.upper()} has no FARE GATE DATA IN')\n",
        "  if row['fare_gate_data_out']['W'] is None:\n",
        "    print(f'{line.upper()} line at {station_name.upper()} has no FARE GATE DATA OUT')"
      ],
      "metadata": {
        "colab": {
          "base_uri": "https://localhost:8080/"
        },
        "id": "HdMluz7m1Z5l",
        "outputId": "854dcfc4-ca70-4b84-d03c-1e3a90f6a6e7"
      },
      "execution_count": null,
      "outputs": [
        {
          "output_type": "stream",
          "name": "stdout",
          "text": [
            "CHIYODA line at YOYOGI-UEHARA has no TRAIN DATA UP\n",
            "CHIYODA line at YOYOGI-UEHARA has no FARE GATE DATA IN\n",
            "CHIYODA line at YOYOGI-UEHARA has no FARE GATE DATA OUT\n",
            "HIBIYA line at KITA-SENJU has no TRAIN DATA DOWN\n",
            "CHIYODA line at KITA-AYASE has no TRAIN DATA DOWN\n",
            "FUKUTOSHIN line at WAKOSHI has no TRAIN DATA UP\n",
            "YURAKUCHO line at WAKOSHI has no TRAIN DATA UP\n",
            "YURAKUCHO line at WAKOSHI has no FARE GATE DATA IN\n",
            "YURAKUCHO line at WAKOSHI has no FARE GATE DATA OUT\n",
            "MARUNOUCHI line at IKEBUKURO has no TRAIN DATA DOWN\n",
            "FUKUTOSHIN line at SHIBUYA has no TRAIN DATA DOWN\n",
            "GINZA line at SHIBUYA has no TRAIN DATA UP\n",
            "HANZOMON line at SHIBUYA has no TRAIN DATA UP\n",
            "GINZA line at ASAKUSA has no TRAIN DATA DOWN\n",
            "HANZOMON line at OSHIAGE has no TRAIN DATA DOWN\n",
            "HIBIYA line at NAKA-MEGURO has no TRAIN DATA UP\n",
            "HIBIYA line at NAKA-MEGURO has no FARE GATE DATA IN\n",
            "HIBIYA line at NAKA-MEGURO has no FARE GATE DATA OUT\n",
            "MARUNOUCHI line at OGIKUBO has no TRAIN DATA UP\n",
            "MARUNOUCHI line at HONANCHO has no TRAIN DATA UP\n",
            "NAMBOKU line at MEGURO has no TRAIN DATA UP\n",
            "NAMBOKU line at MEGURO has no FARE GATE DATA IN\n",
            "NAMBOKU line at MEGURO has no FARE GATE DATA OUT\n",
            "NAMBOKU line at AKABANE-IWABUCHI has no TRAIN DATA DOWN\n",
            "TOZAI line at NAKANO has no TRAIN DATA UP\n",
            "TOZAI line at NAKANO has no FARE GATE DATA IN\n",
            "TOZAI line at NAKANO has no FARE GATE DATA OUT\n",
            "TOZAI line at NISHI-FUNABASHI has no TRAIN DATA DOWN\n",
            "TOZAI line at NISHI-FUNABASHI has no FARE GATE DATA IN\n",
            "TOZAI line at NISHI-FUNABASHI has no FARE GATE DATA OUT\n",
            "YURAKUCHO line at SHIN-KIBA has no TRAIN DATA DOWN\n"
          ]
        }
      ]
    },
    {
      "cell_type": "code",
      "source": [
        "nodes_df.to_pickle('tokyo_metro_nodes.pkl')"
      ],
      "metadata": {
        "id": "mjv5Ojf_tjDF"
      },
      "execution_count": null,
      "outputs": []
    },
    {
      "cell_type": "markdown",
      "source": [
        "## Edges Stuff"
      ],
      "metadata": {
        "id": "qrwuCvYqRNYK"
      }
    },
    {
      "cell_type": "code",
      "source": [
        "edges_df = pd.DataFrame(columns = ['source', 'target', 'line', 'crowdedness'])"
      ],
      "metadata": {
        "id": "ElFzF4BRndWK"
      },
      "execution_count": null,
      "outputs": []
    },
    {
      "cell_type": "code",
      "source": [
        "def get_name_from_file(filename):\n",
        "  return filename.split('.')[0].split('_')[1]"
      ],
      "metadata": {
        "id": "qav8DJh7mHkJ"
      },
      "execution_count": null,
      "outputs": []
    },
    {
      "cell_type": "code",
      "source": [
        "def get_edges(edges_df, file, train):\n",
        "  for i, filename in enumerate(files[1:]):\n",
        "    prev_file = get_name_from_file(files[i])\n",
        "    cur_file = get_name_from_file(filename)\n",
        "\n",
        "    # FIx this later\n",
        "    if (prev_file, cur_file) not in (('Ikebukuro', 'Honancho'), ('Honancho', 'Ikebukuro')):\n",
        "\n",
        "      prev_idx = nodes_df[nodes_df['station_name'] == prev_file].index[0]\n",
        "      cur_idx = nodes_df[nodes_df['station_name'] == cur_file].index[0]\n",
        "\n",
        "      edges_df = pd.concat([edges_df, pd.DataFrame([{\n",
        "          'source': prev_file,\n",
        "          'target': cur_file,\n",
        "          'line': train,\n",
        "          'crowdedness': nodes_df.at[prev_idx, 'train_data_down'][train]\n",
        "      }])], ignore_index = True)\n",
        "\n",
        "      edges_df = pd.concat([edges_df, pd.DataFrame([{\n",
        "          'source': cur_file,\n",
        "          'target': prev_file,\n",
        "          'line': train,\n",
        "          'crowdedness': nodes_df.at[cur_idx, 'train_data_up'][train]\n",
        "      }])], ignore_index = True)\n",
        "\n",
        "  return edges_df"
      ],
      "metadata": {
        "id": "MP02WIvlmjkV"
      },
      "execution_count": null,
      "outputs": []
    },
    {
      "cell_type": "code",
      "source": [
        "for train in ['Chiyoda', 'Fukutoshin', 'Ginza', 'Hanzomon', 'Hibiya', 'Marunouchi', 'Namboku', 'Tozai', 'Yurakucho']:\n",
        "  parent_folder = 'Tokyo Metro/' + train + '/'\n",
        "  filepath = os.path.join(shared_folder, parent_folder)\n",
        "\n",
        "  files = sorted([csvfile for csvfile in sorted(os.listdir(filepath)) if csvfile.lower().endswith('csv')])\n",
        "  edges_df = get_edges(edges_df, files, train)\n",
        "  print('Completed station of', train, 'line')"
      ],
      "metadata": {
        "id": "GHG8f8jcXgJu",
        "colab": {
          "base_uri": "https://localhost:8080/"
        },
        "outputId": "925ffdc0-d56e-45ce-e86c-81af8c9a2da7"
      },
      "execution_count": null,
      "outputs": [
        {
          "output_type": "stream",
          "name": "stdout",
          "text": [
            "Completed station of Chiyoda line\n",
            "Completed station of Fukutoshin line\n",
            "Completed station of Ginza line\n",
            "Completed station of Hanzomon line\n",
            "Completed station of Hibiya line\n",
            "Completed station of Marunouchi line\n",
            "Completed station of Namboku line\n",
            "Completed station of Tozai line\n",
            "Completed station of Yurakucho line\n"
          ]
        }
      ]
    },
    {
      "cell_type": "code",
      "source": [
        "prev_file = 'Nakano-shimbashi'\n",
        "cur_file = 'Nakano-sakaue'\n",
        "\n",
        "prev_idx = nodes_df[nodes_df['station_name'] == prev_file].index[0]\n",
        "cur_idx = nodes_df[nodes_df['station_name'] == cur_file].index[0]\n",
        "\n",
        "edges_df = pd.concat([edges_df, pd.DataFrame([{\n",
        "    'source': prev_file,\n",
        "    'target': cur_file,\n",
        "    'line': train,\n",
        "    'crowdedness': nodes_df.at[prev_idx, 'train_data_down']['Marunouchi']\n",
        "}])], ignore_index = True)\n",
        "\n",
        "edges_df = pd.concat([edges_df, pd.DataFrame([{\n",
        "    'source': cur_file,\n",
        "    'target': prev_file,\n",
        "    'line': train,\n",
        "    'crowdedness': nodes_df.at[cur_idx, 'train_data_up']['Marunouchi']\n",
        "}])], ignore_index = True)"
      ],
      "metadata": {
        "id": "5NpEUFFdXmng"
      },
      "execution_count": null,
      "outputs": []
    },
    {
      "cell_type": "code",
      "source": [
        "edges_df"
      ],
      "metadata": {
        "colab": {
          "base_uri": "https://localhost:8080/",
          "height": 424
        },
        "id": "qGF3JDSFWpo0",
        "outputId": "6c7643ac-43f9-4c15-d1fa-24c5002b2588"
      },
      "execution_count": null,
      "outputs": [
        {
          "output_type": "execute_result",
          "data": {
            "text/plain": [
              "               source            target       line  \\\n",
              "0       Yoyogi-uehara       Yoyogi-koen    Chiyoda   \n",
              "1         Yoyogi-koen     Yoyogi-uehara    Chiyoda   \n",
              "2         Yoyogi-koen    Meiji-jingumae    Chiyoda   \n",
              "3      Meiji-jingumae       Yoyogi-koen    Chiyoda   \n",
              "4      Meiji-jingumae       Omote-sando    Chiyoda   \n",
              "..                ...               ...        ...   \n",
              "347           Tatsumi            Toyosu  Yurakucho   \n",
              "348           Tatsumi         Shin-kiba  Yurakucho   \n",
              "349         Shin-kiba           Tatsumi  Yurakucho   \n",
              "350  Nakano-shimbashi     Nakano-sakaue  Yurakucho   \n",
              "351     Nakano-sakaue  Nakano-shimbashi  Yurakucho   \n",
              "\n",
              "                                           crowdedness  \n",
              "0    {'W': ['0', '0', '0', '0', '1', '2', '2', '1',...  \n",
              "1    {'W': ['0', '0', '0', '0', '0', '0', '0', '0',...  \n",
              "2    {'W': ['0', '0', '1', '1', '1', '2', '2', '1',...  \n",
              "3    {'W': ['0', '0', '0', '0', '0', '0', '0', '0',...  \n",
              "4    {'W': ['0', '0', '0', '1', '1', '2', '2', '1',...  \n",
              "..                                                 ...  \n",
              "347  {'W': ['0', '0', '0', '0', '0', '0', '0', '0',...  \n",
              "348  {'W': ['0', '0', '0', '0', '0', '0', '0', '0',...  \n",
              "349  {'W': ['0', '0', '0', '0', '0', '0', '0', '0',...  \n",
              "350  {'W': ['0', '0', '0', '0', '0', '1', '1', '1',...  \n",
              "351  {'W': ['0', '0', '0', '0', '0', '0', '0', '0',...  \n",
              "\n",
              "[352 rows x 4 columns]"
            ],
            "text/html": [
              "\n",
              "  <div id=\"df-d5929e87-9330-4c07-b2fc-007ad0547739\" class=\"colab-df-container\">\n",
              "    <div>\n",
              "<style scoped>\n",
              "    .dataframe tbody tr th:only-of-type {\n",
              "        vertical-align: middle;\n",
              "    }\n",
              "\n",
              "    .dataframe tbody tr th {\n",
              "        vertical-align: top;\n",
              "    }\n",
              "\n",
              "    .dataframe thead th {\n",
              "        text-align: right;\n",
              "    }\n",
              "</style>\n",
              "<table border=\"1\" class=\"dataframe\">\n",
              "  <thead>\n",
              "    <tr style=\"text-align: right;\">\n",
              "      <th></th>\n",
              "      <th>source</th>\n",
              "      <th>target</th>\n",
              "      <th>line</th>\n",
              "      <th>crowdedness</th>\n",
              "    </tr>\n",
              "  </thead>\n",
              "  <tbody>\n",
              "    <tr>\n",
              "      <th>0</th>\n",
              "      <td>Yoyogi-uehara</td>\n",
              "      <td>Yoyogi-koen</td>\n",
              "      <td>Chiyoda</td>\n",
              "      <td>{'W': ['0', '0', '0', '0', '1', '2', '2', '1',...</td>\n",
              "    </tr>\n",
              "    <tr>\n",
              "      <th>1</th>\n",
              "      <td>Yoyogi-koen</td>\n",
              "      <td>Yoyogi-uehara</td>\n",
              "      <td>Chiyoda</td>\n",
              "      <td>{'W': ['0', '0', '0', '0', '0', '0', '0', '0',...</td>\n",
              "    </tr>\n",
              "    <tr>\n",
              "      <th>2</th>\n",
              "      <td>Yoyogi-koen</td>\n",
              "      <td>Meiji-jingumae</td>\n",
              "      <td>Chiyoda</td>\n",
              "      <td>{'W': ['0', '0', '1', '1', '1', '2', '2', '1',...</td>\n",
              "    </tr>\n",
              "    <tr>\n",
              "      <th>3</th>\n",
              "      <td>Meiji-jingumae</td>\n",
              "      <td>Yoyogi-koen</td>\n",
              "      <td>Chiyoda</td>\n",
              "      <td>{'W': ['0', '0', '0', '0', '0', '0', '0', '0',...</td>\n",
              "    </tr>\n",
              "    <tr>\n",
              "      <th>4</th>\n",
              "      <td>Meiji-jingumae</td>\n",
              "      <td>Omote-sando</td>\n",
              "      <td>Chiyoda</td>\n",
              "      <td>{'W': ['0', '0', '0', '1', '1', '2', '2', '1',...</td>\n",
              "    </tr>\n",
              "    <tr>\n",
              "      <th>...</th>\n",
              "      <td>...</td>\n",
              "      <td>...</td>\n",
              "      <td>...</td>\n",
              "      <td>...</td>\n",
              "    </tr>\n",
              "    <tr>\n",
              "      <th>347</th>\n",
              "      <td>Tatsumi</td>\n",
              "      <td>Toyosu</td>\n",
              "      <td>Yurakucho</td>\n",
              "      <td>{'W': ['0', '0', '0', '0', '0', '0', '0', '0',...</td>\n",
              "    </tr>\n",
              "    <tr>\n",
              "      <th>348</th>\n",
              "      <td>Tatsumi</td>\n",
              "      <td>Shin-kiba</td>\n",
              "      <td>Yurakucho</td>\n",
              "      <td>{'W': ['0', '0', '0', '0', '0', '0', '0', '0',...</td>\n",
              "    </tr>\n",
              "    <tr>\n",
              "      <th>349</th>\n",
              "      <td>Shin-kiba</td>\n",
              "      <td>Tatsumi</td>\n",
              "      <td>Yurakucho</td>\n",
              "      <td>{'W': ['0', '0', '0', '0', '0', '0', '0', '0',...</td>\n",
              "    </tr>\n",
              "    <tr>\n",
              "      <th>350</th>\n",
              "      <td>Nakano-shimbashi</td>\n",
              "      <td>Nakano-sakaue</td>\n",
              "      <td>Yurakucho</td>\n",
              "      <td>{'W': ['0', '0', '0', '0', '0', '1', '1', '1',...</td>\n",
              "    </tr>\n",
              "    <tr>\n",
              "      <th>351</th>\n",
              "      <td>Nakano-sakaue</td>\n",
              "      <td>Nakano-shimbashi</td>\n",
              "      <td>Yurakucho</td>\n",
              "      <td>{'W': ['0', '0', '0', '0', '0', '0', '0', '0',...</td>\n",
              "    </tr>\n",
              "  </tbody>\n",
              "</table>\n",
              "<p>352 rows × 4 columns</p>\n",
              "</div>\n",
              "    <div class=\"colab-df-buttons\">\n",
              "\n",
              "  <div class=\"colab-df-container\">\n",
              "    <button class=\"colab-df-convert\" onclick=\"convertToInteractive('df-d5929e87-9330-4c07-b2fc-007ad0547739')\"\n",
              "            title=\"Convert this dataframe to an interactive table.\"\n",
              "            style=\"display:none;\">\n",
              "\n",
              "  <svg xmlns=\"http://www.w3.org/2000/svg\" height=\"24px\" viewBox=\"0 -960 960 960\">\n",
              "    <path d=\"M120-120v-720h720v720H120Zm60-500h600v-160H180v160Zm220 220h160v-160H400v160Zm0 220h160v-160H400v160ZM180-400h160v-160H180v160Zm440 0h160v-160H620v160ZM180-180h160v-160H180v160Zm440 0h160v-160H620v160Z\"/>\n",
              "  </svg>\n",
              "    </button>\n",
              "\n",
              "  <style>\n",
              "    .colab-df-container {\n",
              "      display:flex;\n",
              "      gap: 12px;\n",
              "    }\n",
              "\n",
              "    .colab-df-convert {\n",
              "      background-color: #E8F0FE;\n",
              "      border: none;\n",
              "      border-radius: 50%;\n",
              "      cursor: pointer;\n",
              "      display: none;\n",
              "      fill: #1967D2;\n",
              "      height: 32px;\n",
              "      padding: 0 0 0 0;\n",
              "      width: 32px;\n",
              "    }\n",
              "\n",
              "    .colab-df-convert:hover {\n",
              "      background-color: #E2EBFA;\n",
              "      box-shadow: 0px 1px 2px rgba(60, 64, 67, 0.3), 0px 1px 3px 1px rgba(60, 64, 67, 0.15);\n",
              "      fill: #174EA6;\n",
              "    }\n",
              "\n",
              "    .colab-df-buttons div {\n",
              "      margin-bottom: 4px;\n",
              "    }\n",
              "\n",
              "    [theme=dark] .colab-df-convert {\n",
              "      background-color: #3B4455;\n",
              "      fill: #D2E3FC;\n",
              "    }\n",
              "\n",
              "    [theme=dark] .colab-df-convert:hover {\n",
              "      background-color: #434B5C;\n",
              "      box-shadow: 0px 1px 3px 1px rgba(0, 0, 0, 0.15);\n",
              "      filter: drop-shadow(0px 1px 2px rgba(0, 0, 0, 0.3));\n",
              "      fill: #FFFFFF;\n",
              "    }\n",
              "  </style>\n",
              "\n",
              "    <script>\n",
              "      const buttonEl =\n",
              "        document.querySelector('#df-d5929e87-9330-4c07-b2fc-007ad0547739 button.colab-df-convert');\n",
              "      buttonEl.style.display =\n",
              "        google.colab.kernel.accessAllowed ? 'block' : 'none';\n",
              "\n",
              "      async function convertToInteractive(key) {\n",
              "        const element = document.querySelector('#df-d5929e87-9330-4c07-b2fc-007ad0547739');\n",
              "        const dataTable =\n",
              "          await google.colab.kernel.invokeFunction('convertToInteractive',\n",
              "                                                    [key], {});\n",
              "        if (!dataTable) return;\n",
              "\n",
              "        const docLinkHtml = 'Like what you see? Visit the ' +\n",
              "          '<a target=\"_blank\" href=https://colab.research.google.com/notebooks/data_table.ipynb>data table notebook</a>'\n",
              "          + ' to learn more about interactive tables.';\n",
              "        element.innerHTML = '';\n",
              "        dataTable['output_type'] = 'display_data';\n",
              "        await google.colab.output.renderOutput(dataTable, element);\n",
              "        const docLink = document.createElement('div');\n",
              "        docLink.innerHTML = docLinkHtml;\n",
              "        element.appendChild(docLink);\n",
              "      }\n",
              "    </script>\n",
              "  </div>\n",
              "\n",
              "\n",
              "<div id=\"df-613d6acd-b3e0-4473-8345-9d5c34fa0560\">\n",
              "  <button class=\"colab-df-quickchart\" onclick=\"quickchart('df-613d6acd-b3e0-4473-8345-9d5c34fa0560')\"\n",
              "            title=\"Suggest charts.\"\n",
              "            style=\"display:none;\">\n",
              "\n",
              "<svg xmlns=\"http://www.w3.org/2000/svg\" height=\"24px\"viewBox=\"0 0 24 24\"\n",
              "     width=\"24px\">\n",
              "    <g>\n",
              "        <path d=\"M19 3H5c-1.1 0-2 .9-2 2v14c0 1.1.9 2 2 2h14c1.1 0 2-.9 2-2V5c0-1.1-.9-2-2-2zM9 17H7v-7h2v7zm4 0h-2V7h2v10zm4 0h-2v-4h2v4z\"/>\n",
              "    </g>\n",
              "</svg>\n",
              "  </button>\n",
              "\n",
              "<style>\n",
              "  .colab-df-quickchart {\n",
              "    background-color: #E8F0FE;\n",
              "    border: none;\n",
              "    border-radius: 50%;\n",
              "    cursor: pointer;\n",
              "    display: none;\n",
              "    fill: #1967D2;\n",
              "    height: 32px;\n",
              "    padding: 0 0 0 0;\n",
              "    width: 32px;\n",
              "  }\n",
              "\n",
              "  .colab-df-quickchart:hover {\n",
              "    background-color: #E2EBFA;\n",
              "    box-shadow: 0px 1px 2px rgba(60, 64, 67, 0.3), 0px 1px 3px 1px rgba(60, 64, 67, 0.15);\n",
              "    fill: #174EA6;\n",
              "  }\n",
              "\n",
              "  [theme=dark] .colab-df-quickchart {\n",
              "    background-color: #3B4455;\n",
              "    fill: #D2E3FC;\n",
              "  }\n",
              "\n",
              "  [theme=dark] .colab-df-quickchart:hover {\n",
              "    background-color: #434B5C;\n",
              "    box-shadow: 0px 1px 3px 1px rgba(0, 0, 0, 0.15);\n",
              "    filter: drop-shadow(0px 1px 2px rgba(0, 0, 0, 0.3));\n",
              "    fill: #FFFFFF;\n",
              "  }\n",
              "</style>\n",
              "\n",
              "  <script>\n",
              "    async function quickchart(key) {\n",
              "      const charts = await google.colab.kernel.invokeFunction(\n",
              "          'suggestCharts', [key], {});\n",
              "    }\n",
              "    (() => {\n",
              "      let quickchartButtonEl =\n",
              "        document.querySelector('#df-613d6acd-b3e0-4473-8345-9d5c34fa0560 button');\n",
              "      quickchartButtonEl.style.display =\n",
              "        google.colab.kernel.accessAllowed ? 'block' : 'none';\n",
              "    })();\n",
              "  </script>\n",
              "</div>\n",
              "    </div>\n",
              "  </div>\n"
            ]
          },
          "metadata": {},
          "execution_count": 20
        }
      ]
    },
    {
      "cell_type": "markdown",
      "source": [
        "### Edges check"
      ],
      "metadata": {
        "id": "tq_WFe_X7gBJ"
      }
    },
    {
      "cell_type": "code",
      "source": [
        "# Edges assertion\n",
        "source_count = edges_df['source'].value_counts().reset_index(drop=True)\n",
        "target_count = edges_df['target'].value_counts().reset_index(drop=True)\n",
        "\n",
        "source_count.equals(target_count)"
      ],
      "metadata": {
        "colab": {
          "base_uri": "https://localhost:8080/"
        },
        "id": "ZVlouuHJneXB",
        "outputId": "9a835826-c4d9-4b3b-9659-5dfa7ae980d1"
      },
      "execution_count": null,
      "outputs": [
        {
          "output_type": "execute_result",
          "data": {
            "text/plain": [
              "True"
            ]
          },
          "metadata": {},
          "execution_count": 21
        }
      ]
    },
    {
      "cell_type": "code",
      "source": [
        "for _, row in edges_df.iterrows():\n",
        "  if row['crowdedness']['W'] is None:\n",
        "    print(row['line'])\n",
        "    print(f'{row[\"source\"].upper()} to {row[\"target\"].upper()} has no WEEKDAY data')\n",
        "  if row['crowdedness']['H'] is None:\n",
        "    print(row['line'])\n",
        "    print(f'{row[\"source\"].upper()} to {row[\"target\"].upper()} has no HOLIDAY data')"
      ],
      "metadata": {
        "id": "HbWL-Dq27kda"
      },
      "execution_count": null,
      "outputs": []
    },
    {
      "cell_type": "code",
      "source": [
        "edges_df.to_pickle('tokyo_metro_edges.pkl')"
      ],
      "metadata": {
        "id": "h6ZytH_QZLus"
      },
      "execution_count": null,
      "outputs": []
    },
    {
      "cell_type": "markdown",
      "source": [
        "## Getting coordinates of stations using `geopy`"
      ],
      "metadata": {
        "id": "s-ANYvADjdcL"
      }
    },
    {
      "cell_type": "code",
      "source": [
        "# geolocator = Nominatim(user_agent = 'my_geocoder')\n",
        "\n",
        "# def get_coordinates(station_name, train_line):\n",
        "#   location_query = f\"{station_name} Station, {train_line} Line, Tokyo, Japan\"\n",
        "#   loc = geolocator.geocode(location_query)\n",
        "\n",
        "#   if loc:\n",
        "#     return pd.Series({ 'latitude': loc.latitude, 'longitude': loc.longitude })\n",
        "#   else:\n",
        "#     location_query = f\"{station_name} Station, {train_line} Line, Chiba, Japan\" # For the Tozai Line\n",
        "#     loc = geolocator.geocode(location_query)\n",
        "\n",
        "#     if loc:\n",
        "#       print(station_name, 'in Chiba')\n",
        "#       return pd.Series({ 'latitude': loc.latitude, 'longitude': loc.longitude })\n",
        "#   return pd.Series({ 'latitude': None, 'longitude': None })"
      ],
      "metadata": {
        "id": "6BdlR_bygYRz"
      },
      "execution_count": null,
      "outputs": []
    },
    {
      "cell_type": "code",
      "source": [
        "# nodes_df[['latitude', 'longitude']] = nodes_df['station_name'].apply(get_coordinates, args=(train,))"
      ],
      "metadata": {
        "id": "phxFlrEehOX0"
      },
      "execution_count": null,
      "outputs": []
    },
    {
      "cell_type": "code",
      "source": [
        "# nodes_df"
      ],
      "metadata": {
        "id": "wetaQYvNhdpj"
      },
      "execution_count": null,
      "outputs": []
    },
    {
      "cell_type": "markdown",
      "source": [
        "## Graph"
      ],
      "metadata": {
        "id": "c84rra-8jZQO"
      }
    },
    {
      "cell_type": "code",
      "source": [
        "G = nx.DiGraph()"
      ],
      "metadata": {
        "id": "V7z3FwESjchK"
      },
      "execution_count": null,
      "outputs": []
    },
    {
      "cell_type": "code",
      "source": [
        "G.add_nodes_from([\n",
        "    (row['station_name'], {\n",
        "        col: row[col] for col in nodes_df.columns if col != 'station_name'\n",
        "    }) for _, row in nodes_df.iterrows()\n",
        "])"
      ],
      "metadata": {
        "id": "wJJdlTC3jn__"
      },
      "execution_count": null,
      "outputs": []
    },
    {
      "cell_type": "code",
      "source": [
        "G.add_edges_from(edges_list)"
      ],
      "metadata": {
        "id": "w3kWf13ZoQfw",
        "colab": {
          "base_uri": "https://localhost:8080/",
          "height": 175
        },
        "outputId": "bf2f9cc0-9aa0-40ee-c518-554f927f6a6b"
      },
      "execution_count": null,
      "outputs": [
        {
          "output_type": "error",
          "ename": "NameError",
          "evalue": "ignored",
          "traceback": [
            "\u001b[0;31m---------------------------------------------------------------------------\u001b[0m",
            "\u001b[0;31mNameError\u001b[0m                                 Traceback (most recent call last)",
            "\u001b[0;32m<ipython-input-29-573b22419b45>\u001b[0m in \u001b[0;36m<cell line: 1>\u001b[0;34m()\u001b[0m\n\u001b[0;32m----> 1\u001b[0;31m \u001b[0mG\u001b[0m\u001b[0;34m.\u001b[0m\u001b[0madd_edges_from\u001b[0m\u001b[0;34m(\u001b[0m\u001b[0medges_list\u001b[0m\u001b[0;34m)\u001b[0m\u001b[0;34m\u001b[0m\u001b[0;34m\u001b[0m\u001b[0m\n\u001b[0m",
            "\u001b[0;31mNameError\u001b[0m: name 'edges_list' is not defined"
          ]
        }
      ]
    },
    {
      "cell_type": "code",
      "source": [
        "nx.draw(G, with_labels=True, node_size=1000, node_color='lightblue', font_size=10)"
      ],
      "metadata": {
        "id": "VRav24-DT8YP"
      },
      "execution_count": null,
      "outputs": []
    },
    {
      "cell_type": "code",
      "source": [
        "plt.figure(figsize = (16, 9))\n",
        "\n",
        "layout = {node: (node_data['longitude'], node_data['latitude']) for node, node_data in G.nodes(data = True)}\n",
        "nx.draw(G, pos=layout, with_labels=True, node_size=500, node_color='lightblue', font_size=2)\n",
        "plt.show()"
      ],
      "metadata": {
        "id": "BNhhTQN3kSH4"
      },
      "execution_count": null,
      "outputs": []
    },
    {
      "cell_type": "markdown",
      "source": [
        "**Haversine formula** - very accurate way of computing distances between two points on the surface of a sphere using the latitude and longitude of the two points"
      ],
      "metadata": {
        "id": "I3Y-5b4NoLHj"
      }
    },
    {
      "cell_type": "code",
      "source": [
        "# def haversine(lat1, lon1, lat2, lon2):\n",
        "#     R = 6371000  # Radius of Earth in meters\n",
        "#     phi_1 = math.radians(lat1)\n",
        "#     phi_2 = math.radians(lat2)\n",
        "#     delta_phi = math.radians(lat2 - lat1)\n",
        "#     delta_lambda = math.radians(lon2 - lon1)\n",
        "\n",
        "#     a = math.sin(delta_phi / 2.0) ** 2 + math.cos(phi_1) * math.cos(phi_2) * math.sin(delta_lambda / 2.0) ** 2\n",
        "#     c = 2 * math.atan2(math.sqrt(a), math.sqrt(1 - a))\n",
        "\n",
        "#     distance = R * c\n",
        "#     return distance"
      ],
      "metadata": {
        "id": "wOdu28fVoSmK"
      },
      "execution_count": null,
      "outputs": []
    },
    {
      "cell_type": "code",
      "source": [
        "# distances = {(u, v): haversine(G.nodes[u]['latitude'], G.nodes[u]['longitude'],\n",
        "#                                 G.nodes[v]['latitude'], G.nodes[v]['longitude'])\n",
        "#              for u, v in G.edges()}\n",
        "\n",
        "# k = 2.0\n",
        "# scaled_distances = {(u, v): distance * k for (u, v), distance in distances.items()}\n",
        "\n",
        "# spring_layout = nx.spring_layout(G)\n",
        "# layout = {node: (G.nodes[node]['longitude'], G.nodes[node]['latitude']) for node in G.nodes()}\n",
        "\n",
        "# nx.draw(G, pos=layout, with_labels=True, node_size=500, node_color='lightblue', font_size=8)\n",
        "# plt.show()"
      ],
      "metadata": {
        "id": "Ocm4BpPsoZ0b"
      },
      "execution_count": null,
      "outputs": []
    }
  ]
}